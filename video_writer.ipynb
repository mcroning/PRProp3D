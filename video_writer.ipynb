{
  "nbformat": 4,
  "nbformat_minor": 0,
  "metadata": {
    "colab": {
      "provenance": [],
      "machine_shape": "hm",
      "mount_file_id": "1svdQaf9pJ1bfi8CQhkxw28rP6OE8OOHU",
      "authorship_tag": "ABX9TyMwkXB2o1GAgcL7HIepqOiJ",
      "include_colab_link": true
    },
    "kernelspec": {
      "name": "python3",
      "display_name": "Python 3"
    },
    "language_info": {
      "name": "python"
    }
  },
  "cells": [
    {
      "cell_type": "markdown",
      "metadata": {
        "id": "view-in-github",
        "colab_type": "text"
      },
      "source": [
        "<a href=\"https://colab.research.google.com/github/mcroning/PRProp3D/blob/main/video_writer.ipynb\" target=\"_parent\"><img src=\"https://colab.research.google.com/assets/colab-badge.svg\" alt=\"Open In Colab\"/></a>"
      ]
    },
    {
      "cell_type": "markdown",
      "source": [
        "Notebook to priduce and save videos for large COLAB runs where runtime is disconnected during  normal operation of PRCoupler. In this case run PRcoupler_large_videos to save necessary files to temporary google drive. Then run this notebook to generate and save the movies to the Google folder specified when PRcoupler_large_videos was run. This notebook should be run in a large memory CPU instance of COLAB\n"
      ],
      "metadata": {
        "id": "Msm7Rl1xhCWH"
      }
    },
    {
      "cell_type": "code",
      "source": [
        "import numpy as np\n",
        "import matplotlib.pyplot as plt\n",
        "import json\n",
        "from pathlib import Path\n",
        "\n",
        "from matplotlib import rcParams\n",
        "import matplotlib.animation as animation\n",
        "from matplotlib.patches import Circle\n",
        "\n",
        "import matplotlib.animation as animation\n",
        "from IPython import display as ipydisplay"
      ],
      "metadata": {
        "id": "OKlfrVaQlVoU"
      },
      "execution_count": 1,
      "outputs": []
    },
    {
      "cell_type": "code",
      "source": [
        "from google.colab import drive\n",
        "drive.mount('/content/drive')\n",
        "pathf_temp='/content/drive/MyDrive/temp_files/'\n",
        "if not Path(pathf_temp).is_dir():\n",
        "  Path.mkdir(Path(pathf_temp))"
      ],
      "metadata": {
        "id": "5TtYK80QwN9h"
      },
      "execution_count": 2,
      "outputs": []
    },
    {
      "cell_type": "code",
      "source": [
        "with open(pathf_temp+'dict_movie.json') as f:\n",
        "  prdata=json.load(f)\n",
        "npzarrays=np.load(pathf_temp+'movie_data.npz')\n",
        "ixz=npzarrays['ixz']\n",
        "output_direction_cosines=npzarrays['output_direction_cosines']\n",
        "imout_cpu=npzarrays['imout_cpu']\n",
        "\n",
        "sx=npzarrays['sx']\n",
        "wdisp1=prdata['wdisp1']\n",
        "wdisp4=prdata['wdisp4']\n",
        "wdisp5=prdata['wdisp5']\n",
        "extent_crop=prdata['extent_crop']\n",
        "extent_s=prdata['extent_s']\n",
        "xaper=prdata['xaper']\n",
        "yaper=prdata['yaper']\n",
        "xsamp=int(prdata['xsamp'])\n",
        "ysamp=int(prdata['ysamp'])\n",
        "thout1=prdata['thout1']\n",
        "tsteps=prdata['tsteps']\n",
        "jt_last_good=prdata['jt_last_good']\n",
        "gl=prdata['gl']\n",
        "abort=prdata['abort']\n",
        "pathf=prdata['pathf']\n",
        "fanning_study=prdata['fanning_study']"
      ],
      "metadata": {
        "id": "jLr6jUA5mcLh"
      },
      "execution_count": 3,
      "outputs": []
    },
    {
      "cell_type": "code",
      "execution_count": null,
      "metadata": {
        "id": "lDvTLNSdgYke"
      },
      "outputs": [],
      "source": [
        "# @title Generate movies for time dependent calculations\n",
        "\n",
        "#load prdata\n",
        "#\n",
        "plt.rcParams['animation.embed_limit'] = 40\n",
        "\n",
        "  #if levelsOK.value: #old code to check image level values\n",
        "\n",
        "ims=[]\n",
        "fig4 = plt.figure()\n",
        "ax10=fig4.add_subplot()\n",
        "ax10.set_xlabel('z mm')\n",
        "ax10.set_ylabel('x mm')\n",
        "ax10.set_title( r'cross section  $\\gamma$l '+str(prdata['gl']))  # normal\n",
        "if abort:\n",
        "  video_steps=jt_last_good//4\n",
        "else:\n",
        "  video_steps=tsteps//4\n",
        "for i in range(video_steps):\n",
        "  im=ax10.imshow(ixz[i].T,\n",
        "        extent=[prdata['rlen']/1000,0,-xaper/2000,xaper/2000],\n",
        "        vmax=wdisp5)#,cmap='terrain')\n",
        "  ims.append([im])\n",
        "cbar=fig4.colorbar(im,ax=ax10,location='bottom')\n",
        "ani1 = animation.ArtistAnimation(fig4, ims, interval=100, blit=True,\n",
        "                              repeat_delay=1000)  #fig4\n",
        "video=ani1.to_jshtml()\n",
        "html=ipydisplay.HTML(video)\n",
        "ipydisplay.display(html)\n",
        "plt.close(fig4)\n",
        "\n",
        "\n",
        "ims=[]\n",
        "fig5 = plt.figure(figsize=(5, 5), dpi=100)\n",
        "\n",
        "ax11=fig5.add_subplot()\n",
        "ax11.set_xlabel(r'x ($\\mu$m)')\n",
        "ax11.set_ylabel(r'y ($\\mu$m)')\n",
        "ax11.set_title( r'output image $\\gamma \\ell$ '+str(prdata['gl']))\n",
        "ymax=yaper/1000/2/2\n",
        "# in mm 1st /2 is for half y aperture spanning,\n",
        "#2nd /2 is for zero centered yaper\n",
        "\n",
        "#for i in range(np.shape(imout_cpu)[0]):\n",
        "for i in range(video_steps):\n",
        "\n",
        "  im=ax11.imshow(abs(np.rot90(imout_cpu[i],k=3)),vmax=wdisp1,\n",
        "  extent=extent_crop)\n",
        "  ims.append([im])\n",
        "cbar=fig5.colorbar(im,ax=ax11)\n",
        "ani2 = animation.ArtistAnimation(fig5, ims, interval=100, blit=True,\n",
        "                              repeat_delay=1000)\n",
        "video=ani2.to_jshtml()\n",
        "html=ipydisplay.HTML(video)\n",
        "ipydisplay.display(html)\n",
        "plt.close(fig5)\n",
        "\n",
        "\n",
        "\n",
        "#      ffout,extent_ff=fx_to_angular(ift_cpu[-1])\n",
        "#      ffout=ffout.T/np.sum(abs(amp.get())**2)*dx*dy\n",
        "\n",
        "#for i in range(len(iftg)):\n",
        "if fanning_study:\n",
        "  #ift2=ift_cpu/np.sum(abs(ampout[jt_last_good//4]).get()**2)*dx*dy\n",
        "  #ift3,ex3 = fx_to_angular(ift2)\n",
        "  #ift3=ffout.T/np.sum(abs(amp.get())**2)*dx*dy\n",
        "  fig6 = plt.figure(figsize=(7, 5), dpi=100)\n",
        "  ax12=fig6.add_subplot()\n",
        "  ax12.set_xlabel( 'x propagation angle')\n",
        "  ax12.set_ylabel( 'y propagation angle')\n",
        "  ax12.set_title( r'far field $\\gamma \\ell$ '+str(prdata['gl']))\n",
        "  patch=Circle((0,0),radius=1,color='w',fill=False)\n",
        "  ax12.add_patch(patch)\n",
        "  ims=[]\n",
        "\n",
        "\n",
        "\n",
        "  #ift3=np.zeros((video_steps,xsamp,ysamp))\n",
        "\n",
        "  for i in range(video_steps):\n",
        "\n",
        "      im=ax12.imshow(output_direction_cosines[i].T,extent=extent_s,\n",
        "                      vmax=wdisp4)\n",
        "      ims.append([im])\n",
        "  ani3 = animation.ArtistAnimation(fig6, ims, interval=100, blit=True,\n",
        "                                  repeat_delay=1000)\n",
        "  video=ani3.to_jshtml()\n",
        "  html=ipydisplay.HTML(video)\n",
        "  ipydisplay.display(html)\n",
        "  plt.close(fig6)\n",
        "  #if False:\n",
        "\n",
        "  fig2a,ax5 = plt.subplots() #output far field\n",
        "  ax5.set_xlabel( 'x direction cosine')\n",
        "  ax5.set_ylabel('y direction  cosine')\n",
        "  ax5.set_title( r'far field $\\gamma \\ell$ '+str(prdata['gl']))\n",
        "  ims=[]\n",
        "\n",
        "  iroll=np.argmin(abs(np.fft.fftshift(sx)+np.sin(thout1)))\n",
        "\n",
        "  for i in range(video_steps):\n",
        "\n",
        "    img=ax5.imshow(np.roll(output_direction_cosines[i].T,-iroll-xsamp//2,axis=1),extent=extent_s,\n",
        "                      vmax=wdisp4)\n",
        "\n",
        "    ax5.set_xlim([(-0.02),(min(0.72,extent_s[1]))])\n",
        "    ylimit=min((0.25),(min(0.25,extent_s[3])))\n",
        "    ax5.set_ylim([-ylimit,ylimit])\n",
        "    ims.append([img])\n",
        "  ani3a = animation.ArtistAnimation(fig2a, ims, interval=100, blit=True,\n",
        "                                  repeat_delay=1000)\n",
        "  video=ani3a.to_jshtml()\n",
        "  html=ipydisplay.HTML(video)\n",
        "  ipydisplay.display(html)\n",
        "  plt.close(fig2a)"
      ]
    },
    {
      "cell_type": "code",
      "source": [
        "writervideo=animation.FFMpegWriter(fps=5)\n",
        "ani1.save(filename=pathf+\"/ixz.mp4\")\n",
        "ani2.save(filename=pathf+\"/imout.mp4\")\n",
        "if fanning_study:\n",
        "  ani3.save(filename=pathf+\"/farfield.mp4\")\n",
        "  ani3a.save(filename=pathf+\"/farfield_compact.mp4\")"
      ],
      "metadata": {
        "id": "xFlpbobkksPA"
      },
      "execution_count": 6,
      "outputs": []
    }
  ]
}